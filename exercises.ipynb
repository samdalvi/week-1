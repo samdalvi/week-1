{
 "cells": [
  {
   "cell_type": "markdown",
   "id": "76ad444f",
   "metadata": {},
   "source": [
    "<font color='darkred'> Unless otherwise noted, **this notebook will not be reviewed or autograded.**</font> You are welcome to use it for scratchwork, but **only the files listed in the exercises will be checked.**\n",
    "\n",
    "---\n",
    "\n",
    "# Exercises\n",
    "\n",
    "For these exercises, add your functions to the *apputil\\.py* file. If you like, you're welcome to adjust the *app\\.py* file, but it is not required.\n",
    "\n",
    "## Exercise 1\n",
    "\n",
    "Create a function `palindrome(word)` that receives a string and returns `True` or `False` depending on whether it is a palindrome.  A palindrome is a word, phrase, or sequence that reads the same backward as forward. Examples of palindromes are `racecar` and `Nurses Run`. This function can be case *insensitive*, and it should ignore spaces and punctuation.\n",
    "\n",
    "- Take a look at the `.lower()` and `.replace(\",\")` methods on a string.\n",
    "- Think about how you can reverse a string\n",
    "\n",
    "**A few test cases:**\n",
    "\n",
    "- `racecar`\n",
    "- `Nurses Run`\n",
    "- `Sit on a potato pan, Otis.`"
   ]
  },
  {
   "cell_type": "code",
   "execution_count": 3,
   "id": "59b5c1dd",
   "metadata": {},
   "outputs": [
    {
     "name": "stdout",
     "output_type": "stream",
     "text": [
      "\n",
      " EXERCISE 1: Palindrome Tests \n",
      "palindrome('racecar') -> True\n",
      "palindrome('Nurses Run') -> True\n",
      "palindrome('Sit on a potato pan, Otis.') -> True\n",
      "\n",
      " EXERCISE 2: Parentheses Balance \n",
      "  ✓ parentheses('((blah)()()())') -> True\n",
      "  ✓ parentheses('(((())blee))') -> True\n",
      "  ✓ parentheses('(()hello((())()))') -> True\n",
      "  ✓ parentheses('((((((())') -> False\n",
      "  ✓ parentheses('()))') -> False\n"
     ]
    }
   ],
   "source": [
    "# Exercise 1: Palindrome Checker\n",
    "def palindrome(word):\n",
    "    \n",
    "    cleaned = word.lower()\n",
    "    cleaned = cleaned.replace(\" \", \"\")\n",
    "    cleaned = cleaned.replace(\",\", \"\")\n",
    "    cleaned = cleaned.replace(\".\", \"\")\n",
    "    cleaned = cleaned.replace(\"!\", \"\")\n",
    "    cleaned = cleaned.replace(\"?\", \"\")\n",
    "    cleaned = cleaned.replace(\"'\", \"\")\n",
    "    cleaned = cleaned.replace(\"-\", \"\")\n",
    "    \n",
    "    # Compare string with its reverse\n",
    "    return cleaned == cleaned[::-1]\n",
    "\n",
    "\n",
    "# Exercise 2: Parentheses Balance Checker\n",
    "def parentheses(sequence):\n",
    "    \n",
    "    balance = 0\n",
    "    \n",
    "    for char in sequence:\n",
    "        if char == '(':\n",
    "            balance += 1\n",
    "        elif char == ')':\n",
    "            balance -= 1\n",
    "            if balance < 0:\n",
    "                return False\n",
    "    \n",
    "    return balance == 0\n",
    "\n",
    "\n",
    "# Test the functions \n",
    "if __name__ == \"__main__\":\n",
    "    print(\"\\n EXERCISE 1: Palindrome Tests \")\n",
    "    palindrome_tests = [\n",
    "        \"racecar\",\n",
    "        \"Nurses Run\", \n",
    "        \"Sit on a potato pan, Otis.\"\n",
    "    ]\n",
    "    \n",
    "    for test in palindrome_tests:\n",
    "        result = palindrome(test)\n",
    "        print(f\"palindrome('{test}') -> {result}\")\n",
    "    \n",
    "    print(\"\\n EXERCISE 2: Parentheses Balance \")\n",
    "    parentheses_tests = [\n",
    "        (\"((blah)()()())\", True),\n",
    "        (\"(((())blee))\", True),\n",
    "        (\"(()hello((())()))\", True),\n",
    "        (\"((((((())\", False),\n",
    "        (\"()))\", False)\n",
    "    ]\n",
    "    \n",
    "    for test, expected in parentheses_tests:\n",
    "        result = parentheses(test)\n",
    "        status = \"✓\" if result == expected else \"✗\"\n",
    "        print(f\"  {status} parentheses('{test}') -> {result}\")"
   ]
  },
  {
   "cell_type": "markdown",
   "id": "d6d15685",
   "metadata": {},
   "source": [
    "## exercise 2\n",
    "\n",
    "In programming languages, and especially in [LISP](https://en.wikipedia.org/wiki/Lisp_(programming_language)), there can be a lot of parentheses. The parentheses have to be \"balanced\" to be valid. For example, `()(())` is balanced, but `()())` is not balanced. Also, `)((())` is not balanced. (Think mathematics.)\n",
    "\n",
    "Write a function `parentheses(sequence)` that takes a string and returns `True` if the string's parentheses are balanced, `False` if they are not.\n",
    "\n",
    "*Once you are finished, see if you can come up with a second way to solve the problem.*\n",
    "\n",
    "> Give [Python Tutor](https://pythontutor.com/) a try this week! It can be a helpful tool for debugging Python :).\n",
    "\n",
    "**Test Cases:**\n",
    "\n",
    " * `((blah)()()())` should return `True`\n",
    " * `(((())blee))` should return `True`\n",
    " * `(()hello((())()))` should return `True`\n",
    " * `((((((())` should return `False`\n",
    " * `()))` should return `False`"
   ]
  },
  {
   "cell_type": "code",
   "execution_count": null,
   "id": "337c61f7",
   "metadata": {},
   "outputs": [],
   "source": []
  },
  {
   "cell_type": "code",
   "execution_count": null,
   "id": "396c9c08",
   "metadata": {},
   "outputs": [],
   "source": []
  }
 ],
 "metadata": {
  "kernelspec": {
   "display_name": "base",
   "language": "python",
   "name": "python3"
  },
  "language_info": {
   "codemirror_mode": {
    "name": "ipython",
    "version": 3
   },
   "file_extension": ".py",
   "mimetype": "text/x-python",
   "name": "python",
   "nbconvert_exporter": "python",
   "pygments_lexer": "ipython3",
   "version": "3.11.11"
  }
 },
 "nbformat": 4,
 "nbformat_minor": 5
}
